{
 "cells": [
  {
   "cell_type": "code",
   "execution_count": null,
   "id": "1e1bba04-bb45-4a59-8191-42f6b905a490",
   "metadata": {},
   "outputs": [],
   "source": [
    "import os\n",
    "import pandas as pd\n",
    "\n",
    "for file in os.listdir('../output'):\n",
    "    if file.startswith('input_2'):\n",
    "        date = file.split('_')[-1][:-4]\n",
    "        df = pd.read_csv(os.path.join('../output', file))\n",
    "        cv_emergency_and_planned = df[(df['cvd_emergency'] == 1) & (df['cvd_elective'] ==1)]\n",
    "        cancer_emergency_and_planned = df[(df['cancer_emergency'] == 1) & (df['cancer_elective'] ==1)]\n",
    "        resp_emergency_and_planned = df[(df['respiratory_disease_emergency'] == 1) & (df['respiratory_disease_elective'] ==1)]\n",
    "        \n",
    "        crossover = len(cv_emergency_and_planned) + len(cancer_emergency_and_planned) + len(resp_emergency_and_planned)\n",
    "        print(f'{date}: {crossover}')"
   ]
  }
 ],
 "metadata": {
  "kernelspec": {
   "display_name": "Python 3",
   "language": "python",
   "name": "python3"
  },
  "language_info": {
   "codemirror_mode": {
    "name": "ipython",
    "version": 3
   },
   "file_extension": ".py",
   "mimetype": "text/x-python",
   "name": "python",
   "nbconvert_exporter": "python",
   "pygments_lexer": "ipython3",
   "version": "3.9.2"
  }
 },
 "nbformat": 4,
 "nbformat_minor": 5
}
