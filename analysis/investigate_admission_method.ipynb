{
 "cells": [
  {
   "cell_type": "code",
   "execution_count": 9,
   "id": "65ac2d1c-f846-4273-8253-a868d9e119fe",
   "metadata": {},
   "outputs": [
    {
     "name": "stdout",
     "output_type": "stream",
     "text": [
      "cancer: 1000\n",
      "cvd: 1000\n",
      "respiratory_disease: 1000\n"
     ]
    }
   ],
   "source": [
    "import os\n",
    "import pandas as pd\n",
    "\n",
    "df = pd.read_csv('../output/input_check.csv')\n",
    "\n",
    "diseases = ['cancer', 'cvd', 'respiratory_disease']\n",
    "\n",
    "for disease in diseases:\n",
    "    \n",
    "    \n",
    "    sub_df = df[df[f'{disease}_admission_method'].isin([\"11\", \"12\", \"13\", \"21\", \"22\", \"23\", \"24\", \"25\", \"2A\", \"2B\", \"2C\", \"2D\", \"28\"])]\n",
    "    print(f'{disease}: {len(sub_df)}')"
   ]
  },
  {
   "cell_type": "code",
   "execution_count": null,
   "id": "e298bc38-c738-46b4-b3ba-942c2f53f92d",
   "metadata": {},
   "outputs": [],
   "source": []
  }
 ],
 "metadata": {
  "kernelspec": {
   "display_name": "Python 3",
   "language": "python",
   "name": "python3"
  },
  "language_info": {
   "codemirror_mode": {
    "name": "ipython",
    "version": 3
   },
   "file_extension": ".py",
   "mimetype": "text/x-python",
   "name": "python",
   "nbconvert_exporter": "python",
   "pygments_lexer": "ipython3",
   "version": "3.9.2"
  }
 },
 "nbformat": 4,
 "nbformat_minor": 5
}
